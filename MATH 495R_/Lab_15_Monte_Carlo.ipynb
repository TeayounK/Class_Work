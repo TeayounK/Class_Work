{
  "nbformat": 4,
  "nbformat_minor": 0,
  "metadata": {
    "colab": {
      "provenance": []
    },
    "kernelspec": {
      "name": "python3",
      "display_name": "Python 3"
    },
    "language_info": {
      "name": "python"
    }
  },
  "cells": [
    {
      "cell_type": "code",
      "execution_count": 39,
      "metadata": {
        "colab": {
          "base_uri": "https://localhost:8080/"
        },
        "id": "0g--Uc9XNuyq",
        "outputId": "817e69f6-f910-4cca-dc5a-2b85d0acb383"
      },
      "outputs": [
        {
          "output_type": "stream",
          "name": "stdout",
          "text": [
            "4.9334752\n"
          ]
        }
      ],
      "source": [
        "import numpy as np\n",
        "from scipy import linalg as la\n",
        "\n",
        "def openBallVolume(n, N = 10**4):\n",
        "    points = np.random.uniform(-1, 1, (n,N))\n",
        "    \n",
        "    lengths = la.norm(points, axis=0)\n",
        "    num_within = np.count_nonzero(lengths < 1)\n",
        "\n",
        "    return  2**n * (num_within / N)\n",
        "\n",
        "print(openBallVolume(4, 10000000))"
      ]
    },
    {
      "cell_type": "code",
      "source": [
        "def montecarlo_1D(f, a, b, N = 10**4):\n",
        "    points = np.random.uniform(a, b, (N))\n",
        "    \n",
        "    hights = f(points)\n",
        "    aver_hight = sum(hights)/N\n",
        "\n",
        "    return  (b-a) * aver_hight\n",
        "\n",
        "print(montecarlo_1D(lambda x: x**2, -4, 2, 10000000))\n",
        "print(montecarlo_1D(lambda x: np.sin(x), -2*np.pi, 2*np.pi, 10000000))\n",
        "print(montecarlo_1D(lambda x: 1/x, 1, 10, 10000000))"
      ],
      "metadata": {
        "colab": {
          "base_uri": "https://localhost:8080/"
        },
        "id": "R0xelGpeNxIC",
        "outputId": "e022a2cc-90d3-4f9d-973d-412853e62315"
      },
      "execution_count": 40,
      "outputs": [
        {
          "output_type": "stream",
          "name": "stdout",
          "text": [
            "24.01079278234826\n",
            "-0.0023277233980375867\n",
            "2.3023877432869853\n"
          ]
        }
      ]
    },
    {
      "cell_type": "code",
      "source": [
        "def montecarlo_nD(f, a, b, N = 10**4):\n",
        "  points = np.random.uniform(a, b)\n",
        "  \n",
        "  hights = 0\n",
        "  for i in range(N):\n",
        "    point = np.random.uniform(a, b)\n",
        "    hights += f(point)\n",
        "\n",
        "\n",
        "  Ob = 1\n",
        "  for i in range(len(a)):\n",
        "    Ob *= (b[i]-a[i])\n",
        "\n",
        "  \n",
        "  aver_hight = hights/N\n",
        "\n",
        "  return  Ob * aver_hight\n",
        "\n",
        "print(montecarlo_nD(lambda x: x[0]**2 + x[1]**2, [0,0], [1,1], 1000000))\n",
        "print(montecarlo_nD(lambda x: 3*x[0] - 4*x[1] + x[1]**2, [1,-2], [3,1], 1000000))\n",
        "print(montecarlo_nD(lambda x: x[0] + x[1] - x[3]*x[2], [-1,-2,-3,-4], [1,2,3,4], 1000000))"
      ],
      "metadata": {
        "colab": {
          "base_uri": "https://localhost:8080/"
        },
        "id": "Kscb0UvpNxrZ",
        "outputId": "26bbeba7-ea23-476f-b36a-9b775c4aed03"
      },
      "execution_count": 54,
      "outputs": [
        {
          "output_type": "stream",
          "name": "stdout",
          "text": [
            "0.6661594484403855\n",
            "53.99512403662791\n",
            "1.0966337130777615\n"
          ]
        }
      ]
    }
  ]
}