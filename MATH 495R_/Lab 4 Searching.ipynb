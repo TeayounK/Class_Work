{
  "nbformat": 4,
  "nbformat_minor": 0,
  "metadata": {
    "colab": {
      "provenance": []
    },
    "kernelspec": {
      "name": "python3",
      "display_name": "Python 3"
    },
    "language_info": {
      "name": "python"
    }
  },
  "cells": [
    {
      "cell_type": "code",
      "execution_count": null,
      "metadata": {
        "colab": {
          "base_uri": "https://localhost:8080/"
        },
        "id": "esSOVgnrO2gS",
        "outputId": "e9c6de9f-d659-4d2d-aa9e-09efc4ab410a"
      },
      "outputs": [
        {
          "output_type": "stream",
          "name": "stdout",
          "text": [
            "Floating point precision exceeded.\n",
            "Stopped after 53 iterations.\n",
            "Max a[n] = 1.7099759466766968\n",
            "Min b[n] = 1.709975946676697\n"
          ]
        }
      ],
      "source": [
        "# Problem 1\n",
        "\n",
        "# a and b are sequences of rational numbers\n",
        "# Initial conditions. Use floats to ensure floating point division\n",
        "k = 5     #우리가 찾고 싶어하는 값.\n",
        "a = [1.0]\n",
        "b = [2.0]\n",
        "\n",
        "# loop a maximum of 1000 times. In practice, <100 iterations are required to exceed the precision of our basic floating point variable\n",
        "for n in range(1,1000):\n",
        "  x = (a[n-1] + b[n-1]) / 2.0\n",
        "  if x**3 < k: #x is in A\n",
        "\n",
        "# add x to a. b[n] is unchanged from b[n-1]\n",
        "    a.append( x )\n",
        "    b.append( b[n-1] )\n",
        "  else: # x is an upper bound for A\n",
        "\n",
        "# add x to b. a[n] is unchanged from a[n-1]\n",
        "    a.append( a[n-1] )\n",
        "    b.append( x )\n",
        "\n",
        "# check that something has changed this iteration. If it hasn’t, we’ve exceeded the precision of our floating point variables #이전 값과 현재 값이 컴퓨터의 역략으로 봤을때 같다면, 똑같이 나오므로.\n",
        "  if a[n] == a[n-1] and b[n] == b[n-1]:\n",
        "    print(\"Floating point precision exceeded.\")\n",
        "    break\n",
        "\n",
        "# may never happen, but it would be a stopping point if it did # 정확한 리미트 값을 찾았다는 뜻. 거의 일어날 일 없음.\n",
        "  if a[n] == b[n]:\n",
        "    print(\"a[n] = b[n]. Limit reached.\")\n",
        "    break\n",
        "\n",
        "# approximation complete, output results\n",
        "print(\"Stopped after \"+str(n)+\" iterations.\")\n",
        "print(\"Max a[n] = \"+ str(a[n]))\n",
        "print(\"Min b[n] = \"+ str(b[n]))\n"
      ]
    },
    {
      "cell_type": "markdown",
      "source": [
        "1. Set min_index equal to 0 and set max_index to be len(l)- 1. Then curr_index is set to be an integer halfway between them. \n",
        "\n",
        "2. If l[curr_index] = n, then we have found it! \n",
        "\n",
        "3. If l[curr_index] < n, update min_index to be curr_index + 1 so that we are now searching in the second half of the list. \n",
        "\n",
        "4. If l[curr_index] > n, update max_index to be curr_index- 1 so that we are now searching in the first half of the list. \n",
        "\n",
        "5. With our new min_index and max_index, recalculate curr_index to be halfway between them and continue recursively by calling the function again with the new values for the variables. \n",
        "\n",
        "6. If we never find it, return −1."
      ],
      "metadata": {
        "id": "L7oFMQ-aUMFl"
      }
    },
    {
      "cell_type": "code",
      "source": [
        "# Problem 2\n",
        "\n",
        "import numpy as np\n",
        "\n",
        "def binary_search(L,n):\n",
        "\n",
        "  min_index = 0\n",
        "  max_index = len(L)\n",
        "\n",
        "  return binary_search_helper(L, n, min_index, max_index)\n",
        "\n",
        "def binary_search_helper(l,n,min_index, max_index):\n",
        "\n",
        "  curr_index_temp = round((min_index + max_index)/2)\n",
        "  #print(\"min: \", min_index, \" curr: \", curr_index_temp, \" max: \", max_index)\n",
        "\n",
        "  if (n > max_index) or (n < min_index):\n",
        "    return -1\n",
        "  if max_index < min_index :\n",
        "    return -1\n",
        "  if max_index == curr_index_temp :\n",
        "    return -1\n",
        "  if n < l[curr_index_temp] :\n",
        "    return binary_search_helper(l,n,min_index, curr_index_temp)\n",
        "  elif n > l[curr_index_temp]:\n",
        "    return binary_search_helper(l,n,curr_index_temp, max_index)\n",
        "  elif n == l[curr_index_temp] :\n",
        "    return curr_index_temp  #인덱스 값을 내보내는 거임.\n"
      ],
      "metadata": {
        "id": "I6MUyNdHl_sw"
      },
      "execution_count": null,
      "outputs": []
    },
    {
      "cell_type": "code",
      "source": [
        "# Problem 3 a)\n",
        "\n",
        "def linear_search(l,n):\n",
        "  l_min_index = 0\n",
        "  l_max_index = len(l)\n",
        "  temp_curr_index = -1\n",
        "\n",
        "  for k in range(0,len(l)):\n",
        "    l_curr_index = round((l_min_index + l_max_index)/2)\n",
        "\n",
        "    if (n > l_max_index) or (n < l_min_index):\n",
        "      return -1\n",
        "    if l_min_index > l_max_index:\n",
        "      return -1 \n",
        "    if l_curr_index == l_max_index:\n",
        "      return -1\n",
        "    if temp_curr_index == l_curr_index:\n",
        "      return -1\n",
        "    if n < l[l_curr_index] :\n",
        "      l_max_index = l_curr_index\n",
        "      temp_curr_index = l_curr_index\n",
        "    elif n > l[l_curr_index]:\n",
        "      l_min_index = l_curr_index\n",
        "      temp_curr_index = l_curr_index\n",
        "    elif n == l[l_curr_index] :\n",
        "      return l_curr_index  #인덱스 값을 내보내는 거임.\n"
      ],
      "metadata": {
        "id": "S2zkAEuXwTY3"
      },
      "execution_count": null,
      "outputs": []
    },
    {
      "cell_type": "code",
      "source": [
        "# Problem 3 b)\n",
        "from sympy import primerange\n",
        "\n",
        "a = list(primerange(1,1000))\n",
        "\n",
        "# Problem 3 c)\n",
        "from time import time \n",
        "\n",
        "t = time()                      # saving the current time\n",
        "print(linear_search(a, 823))    # running the binary search \n",
        "print(\"Time took: \", time()- t) # current time- saved time\n"
      ],
      "metadata": {
        "colab": {
          "base_uri": "https://localhost:8080/"
        },
        "id": "Oovgso9TyEqU",
        "outputId": "708cc9b7-e061-4e80-be09-8f85a8213a30"
      },
      "execution_count": null,
      "outputs": [
        {
          "output_type": "stream",
          "name": "stdout",
          "text": [
            "This is the index # 142\n",
            "None\n",
            "Time took:  0.002550840377807617\n"
          ]
        }
      ]
    },
    {
      "cell_type": "code",
      "source": [
        "# Problem 3 c)\n",
        "\n",
        "t = time()                      \n",
        "print(binary_search(a, 823))    \n",
        "print(\"Time took: \", time()- t)"
      ],
      "metadata": {
        "colab": {
          "base_uri": "https://localhost:8080/"
        },
        "id": "8Gf-sNjd66US",
        "outputId": "3df2697e-83b1-487c-c72e-d6a2d84c05ed"
      },
      "execution_count": null,
      "outputs": [
        {
          "output_type": "stream",
          "name": "stdout",
          "text": [
            "-1\n",
            "Time took:  0.00013017654418945312\n"
          ]
        }
      ]
    },
    {
      "cell_type": "code",
      "source": [
        "# Problem 3 d)"
      ],
      "metadata": {
        "id": "KdZLKhmZGjuR"
      },
      "execution_count": null,
      "outputs": []
    },
    {
      "cell_type": "markdown",
      "source": [
        "n = 2"
      ],
      "metadata": {
        "id": "O3R_Hgl7Gnx3"
      }
    },
    {
      "cell_type": "code",
      "source": [
        "t = time()                      \n",
        "print(binary_search(a, 2))    \n",
        "print(\"Time took: \", time()- t)"
      ],
      "metadata": {
        "colab": {
          "base_uri": "https://localhost:8080/"
        },
        "id": "9YAY2wyVFaW4",
        "outputId": "b8a42ab2-576d-4508-fa4e-fe376ad8a1be"
      },
      "execution_count": null,
      "outputs": [
        {
          "output_type": "stream",
          "name": "stdout",
          "text": [
            "-1\n",
            "Time took:  0.00021719932556152344\n"
          ]
        }
      ]
    },
    {
      "cell_type": "code",
      "source": [
        "t = time()                      \n",
        "print(linear_search(a, 2))    \n",
        "print(\"Time took: \", time()- t)"
      ],
      "metadata": {
        "colab": {
          "base_uri": "https://localhost:8080/"
        },
        "id": "Tl0Dpb2VF_I5",
        "outputId": "cdf6d6f3-f4b3-4dce-e4ff-9314889dfeba"
      },
      "execution_count": null,
      "outputs": [
        {
          "output_type": "stream",
          "name": "stdout",
          "text": [
            "This is the index # 0\n",
            "None\n",
            "Time took:  0.00021767616271972656\n"
          ]
        }
      ]
    },
    {
      "cell_type": "markdown",
      "source": [
        "n = 191"
      ],
      "metadata": {
        "id": "18iu9mQfGdcF"
      }
    },
    {
      "cell_type": "code",
      "source": [
        "t = time()                      \n",
        "print(binary_search(a, 191))    \n",
        "print(\"Time took: \", time()- t)"
      ],
      "metadata": {
        "colab": {
          "base_uri": "https://localhost:8080/"
        },
        "id": "qmtKeyeOGFwp",
        "outputId": "573dcc96-848d-45a1-c169-67d3c77005e8"
      },
      "execution_count": null,
      "outputs": [
        {
          "output_type": "stream",
          "name": "stdout",
          "text": [
            "-1\n",
            "Time took:  0.00018358230590820312\n"
          ]
        }
      ]
    },
    {
      "cell_type": "code",
      "source": [
        "t = time()                      \n",
        "print(linear_search(a, 191))    \n",
        "print(\"Time took: \", time()- t)"
      ],
      "metadata": {
        "colab": {
          "base_uri": "https://localhost:8080/"
        },
        "id": "dPqVTm63GK6b",
        "outputId": "629bf219-ebee-4028-c23f-9b28edcaaa98"
      },
      "execution_count": null,
      "outputs": [
        {
          "output_type": "stream",
          "name": "stdout",
          "text": [
            "This is the index # 42\n",
            "None\n",
            "Time took:  0.005865812301635742\n"
          ]
        }
      ]
    },
    {
      "cell_type": "markdown",
      "source": [
        "n = 997"
      ],
      "metadata": {
        "id": "RhSkR7X6GxDI"
      }
    },
    {
      "cell_type": "code",
      "source": [
        "t = time()                      \n",
        "print(binary_search(a, 997))    \n",
        "print(\"Time took: \", time()- t)"
      ],
      "metadata": {
        "colab": {
          "base_uri": "https://localhost:8080/"
        },
        "id": "MuB0ZQU_Guaq",
        "outputId": "1384d7e9-75c2-4dfe-c948-0bb8fea7bac8"
      },
      "execution_count": null,
      "outputs": [
        {
          "output_type": "stream",
          "name": "stdout",
          "text": [
            "-1\n",
            "Time took:  0.00017404556274414062\n"
          ]
        }
      ]
    },
    {
      "cell_type": "code",
      "source": [
        "t = time()                      \n",
        "print(linear_search(a, 997))    \n",
        "print(\"Time took: \", time()- t)"
      ],
      "metadata": {
        "colab": {
          "base_uri": "https://localhost:8080/"
        },
        "id": "gNtDBhefG1FD",
        "outputId": "004f10bb-685b-4982-948d-36017a39e091"
      },
      "execution_count": null,
      "outputs": [
        {
          "output_type": "stream",
          "name": "stdout",
          "text": [
            "This is the index # 167\n",
            "None\n",
            "Time took:  0.0002536773681640625\n"
          ]
        }
      ]
    },
    {
      "cell_type": "markdown",
      "source": [
        "n = 1000"
      ],
      "metadata": {
        "id": "Hx09OQQNG6HQ"
      }
    },
    {
      "cell_type": "code",
      "source": [
        "t = time()                      \n",
        "print(binary_search(a, 1000))    \n",
        "print(\"Time took: \", time()- t)"
      ],
      "metadata": {
        "colab": {
          "base_uri": "https://localhost:8080/"
        },
        "id": "NtewiSFUG5P7",
        "outputId": "17c70f4c-f884-4b2d-fddb-ca1b19b2d166"
      },
      "execution_count": null,
      "outputs": [
        {
          "output_type": "stream",
          "name": "stdout",
          "text": [
            "-1\n",
            "Time took:  0.0001766681671142578\n"
          ]
        }
      ]
    },
    {
      "cell_type": "code",
      "source": [
        "t = time()                      \n",
        "print(linear_search(a, 1000))    \n",
        "print(\"Time took: \", time()- t)\n",
        "\n",
        "# Both work took about the same time."
      ],
      "metadata": {
        "colab": {
          "base_uri": "https://localhost:8080/"
        },
        "id": "7kiIjsSnG9MR",
        "outputId": "d4652218-c8a1-4105-cb68-946500fc55ac"
      },
      "execution_count": null,
      "outputs": [
        {
          "output_type": "stream",
          "name": "stdout",
          "text": [
            "-1\n",
            "Time took:  0.000225067138671875\n"
          ]
        }
      ]
    },
    {
      "cell_type": "code",
      "source": [
        "# Problem 3 d-ii)\n",
        "\n",
        "b = list(primerange(1,10000000))\n",
        "\n",
        "# n = 2\n",
        "t = time()                      \n",
        "print(binary_search(b, 2))    \n",
        "print(\"Time took: \", time()- t)\n",
        "t = time()                      \n",
        "print(linear_search(b, 2))    \n",
        "print(\"Time took: \", time()- t)\n",
        "print()\n",
        "\n",
        "# n = 9999991\n",
        "t = time()                      \n",
        "print(binary_search(b, 9999991))    \n",
        "print(\"Time took: \", time()- t)\n",
        "t = time()                      \n",
        "print(linear_search(b, 9999991))    \n",
        "print(\"Time took: \", time()- t)\n",
        "print()\n",
        "\n",
        "# n = 524287\n",
        "t = time()                      \n",
        "print(binary_search(b, 524287))    \n",
        "print(\"Time took: \", time()- t)\n",
        "t = time()                      \n",
        "print(linear_search(b, 524287))    \n",
        "print(\"Time took: \", time()- t)\n",
        "print()\n",
        "\n",
        "# n = 1632913\n",
        "t = time()                      \n",
        "print(binary_search(b, 1632913))    \n",
        "print(\"Time took: \", time()- t)\n",
        "t = time()                      \n",
        "print(linear_search(b, 1632913))    \n",
        "print(\"Time took: \", time()- t)\n",
        "print()\n",
        "\n",
        "# binary_search is expected to be faster than linear_search in most of cases, except for a value close to the first index value."
      ],
      "metadata": {
        "colab": {
          "base_uri": "https://localhost:8080/"
        },
        "id": "2_GrsxWpHl_Z",
        "outputId": "93a85e83-030d-4fc5-c8aa-814e512561a2"
      },
      "execution_count": null,
      "outputs": [
        {
          "output_type": "stream",
          "name": "stdout",
          "text": [
            "-1\n",
            "Time took:  0.0012149810791015625\n",
            "This is the index # 0\n",
            "None\n",
            "Time took:  0.0005271434783935547\n",
            "\n",
            "-1\n",
            "Time took:  0.00011754035949707031\n",
            "This is the index # 664578\n",
            "None\n",
            "Time took:  0.002453327178955078\n",
            "\n",
            "-1\n",
            "Time took:  0.00012683868408203125\n",
            "This is the index # 43389\n",
            "None\n",
            "Time took:  0.007366657257080078\n",
            "\n",
            "-1\n",
            "Time took:  0.00011897087097167969\n",
            "This is the index # 123456\n",
            "None\n",
            "Time took:  0.0001888275146484375\n",
            "\n"
          ]
        }
      ]
    },
    {
      "cell_type": "code",
      "source": [
        "# Problem 3 d-iii)\n",
        "\n",
        "b = list(primerange(1,10000000))\n",
        "\n",
        "# n = 1234567\n",
        "t = time()                      \n",
        "print(binary_search(b, 1234567))    \n",
        "print(\"Time took: \", time()- t)\n",
        "t = time()                      \n",
        "print(linear_search(b, 1234567))    \n",
        "print(\"Time took: \", time()- t)\n",
        "print()\n",
        "\n",
        "# n = 10000000\n",
        "t = time()                      \n",
        "print(binary_search(b, 10000000))    \n",
        "print(\"Time took: \", time()- t)\n",
        "t = time()                      \n",
        "print(linear_search(b, 10000000))    \n",
        "print(\"Time took: \", time()- t)\n",
        "print()\n",
        "\n",
        "# n = 1\n",
        "t = time()                      \n",
        "print(binary_search(b, 1))    \n",
        "print(\"Time took: \", time()- t)\n",
        "t = time()                      \n",
        "print(linear_search(b, 1))    \n",
        "print(\"Time took: \", time()- t)\n",
        "print()\n",
        "\n",
        "# n = 512\n",
        "t = time()                      \n",
        "print(binary_search(b, 512))    \n",
        "print(\"Time took: \", time()- t)\n",
        "t = time()                      \n",
        "print(linear_search(b, 512))    \n",
        "print(\"Time took: \", time()- t)\n",
        "print()"
      ],
      "metadata": {
        "colab": {
          "base_uri": "https://localhost:8080/"
        },
        "id": "BCqR96MOIo7V",
        "outputId": "fafc1e79-fc59-4608-fd25-491acffc4537"
      },
      "execution_count": null,
      "outputs": [
        {
          "output_type": "stream",
          "name": "stdout",
          "text": [
            "-1\n",
            "Time took:  0.0009081363677978516\n",
            "-1\n",
            "Time took:  0.0001285076141357422\n",
            "\n",
            "-1\n",
            "Time took:  0.00011181831359863281\n",
            "-1\n",
            "Time took:  0.000133514404296875\n",
            "\n",
            "-1\n",
            "Time took:  0.00013399124145507812\n",
            "-1\n",
            "Time took:  0.0001163482666015625\n",
            "\n",
            "-1\n",
            "Time took:  0.00010704994201660156\n",
            "-1\n",
            "Time took:  0.00013256072998046875\n",
            "\n"
          ]
        }
      ]
    }
  ]
}