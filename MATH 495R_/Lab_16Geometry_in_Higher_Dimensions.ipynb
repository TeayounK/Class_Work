{
  "nbformat": 4,
  "nbformat_minor": 0,
  "metadata": {
    "colab": {
      "provenance": []
    },
    "kernelspec": {
      "name": "python3",
      "display_name": "Python 3"
    },
    "language_info": {
      "name": "python"
    }
  },
  "cells": [
    {
      "cell_type": "code",
      "execution_count": 236,
      "metadata": {
        "colab": {
          "base_uri": "https://localhost:8080/"
        },
        "id": "2cNEy9gpJKTr",
        "outputId": "ba20e310-4ec5-4a5b-ec19-a8870a06c05c"
      },
      "outputs": [
        {
          "output_type": "stream",
          "name": "stdout",
          "text": [
            "1.0\n",
            "2.0\n",
            "3.1413096\n",
            "4.1884656\n",
            "4.9401648\n",
            "5.2657504\n",
            "5.1663296\n",
            "4.734144\n",
            "4.0583424\n",
            "3.2976384\n",
            "As n increases, the volume of it decreases\n"
          ]
        }
      ],
      "source": [
        "import numpy as np\n",
        "import matplotlib.pyplot as plt\n",
        "from scipy import linalg as la\n",
        "\n",
        "def openBallVolume(n, N = 10**4):\n",
        "    points = np.random.uniform(-1, 1, (n,N))\n",
        "    \n",
        "    lengths = la.norm(points, axis=0)\n",
        "    num_within = np.count_nonzero(lengths < 1)\n",
        "\n",
        "    return  2**n * (num_within / N)\n",
        "\n",
        "for i in range(10):\n",
        "  print(openBallVolume(i, 10000000))\n",
        "\n",
        "print(\"As n increases, the volume of it decreases\")"
      ]
    },
    {
      "cell_type": "code",
      "source": [
        "#Problem 1\n",
        "n = 20\n",
        "y = []\n",
        "for i in range(n):\n",
        "  y.append(openBallVolume(i, 1000000))\n",
        "\n",
        "plt.plot(np.arange(n),y)\n",
        "plt.plot(np.linspace(5,5,100),np.linspace(0,6,100),\"--\")\n",
        "print(\"At 5th dimention, its volume is the highest among other dimentions\")\n",
        "plt.show()\n",
        "\n"
      ],
      "metadata": {
        "colab": {
          "base_uri": "https://localhost:8080/",
          "height": 282
        },
        "id": "bWnaIZ4OKYxg",
        "outputId": "d7db0c19-b9c1-4f02-c733-069a95d19e02"
      },
      "execution_count": 237,
      "outputs": [
        {
          "output_type": "stream",
          "name": "stdout",
          "text": [
            "At 5th dimention, its volume is the highest among other dimentions\n"
          ]
        },
        {
          "output_type": "display_data",
          "data": {
            "text/plain": [
              "<Figure size 432x288 with 1 Axes>"
            ],
            "image/png": "[encoded data removed]"
          },
          "metadata": {
            "needs_background": "light"
          }
        }
      ]
    },
    {
      "cell_type": "code",
      "source": [
        "#Problem 2\n",
        "n = 30\n",
        "y = []\n",
        "for i in range(1,n+1):\n",
        "  y.append(1/2**(1/i))\n",
        "\n",
        "plt.plot(np.arange(n),y)\n",
        "plt.show()"
      ],
      "metadata": {
        "colab": {
          "base_uri": "https://localhost:8080/",
          "height": 269
        },
        "id": "UviB5yVlDrKY",
        "outputId": "154ff9d6-5452-4995-9f94-3c562ee5a635"
      },
      "execution_count": 238,
      "outputs": [
        {
          "output_type": "display_data",
          "data": {
            "text/plain": [
              "<Figure size 432x288 with 1 Axes>"
            ],
            "image/png": "[encoded data removed]"
          },
          "metadata": {
            "needs_background": "light"
          }
        }
      ]
    },
    {
      "cell_type": "code",
      "source": [
        "#Problem 3\n",
        "import numpy as np\n",
        "import random\n",
        "#A function to generate n points on a d-dimensional unit sphere \n",
        "def generate(n, d): \n",
        "  list_of_points = [] \n",
        "  point = [] \n",
        "  for i in range(n): \n",
        "    point = [] \n",
        "    for j in range(d): \n",
        "      point.append(random.uniform(-1,1))  \n",
        "    norm = np.sqrt(np.sum([s**2 for s in point])) \n",
        "    norm_point = point/norm \n",
        "    list_of_points.append(tuple(norm_point)) \n",
        "  return list_of_points\n",
        "\n",
        "b = generate(500,50)\n",
        "a = generate(5,50)\n",
        "\n",
        "\n",
        "\n",
        "for i in range(5):\n",
        "  count = 0\n",
        "  for j in range(500):\n",
        "    if(np.abs(np.dot(a[i],b[j])) <= 1/np.sqrt(50)):\n",
        "      count += 1\n",
        "  print(i+1,\" equator has \", count, \" points\")\n",
        "\n",
        "po = [j for j in range(500) if(np.abs(np.dot(a[0],b[j])) <= 1/np.sqrt(50)) and (np.abs(np.dot(a[1],b[j])) <= 1/np.sqrt(50)) and (np.abs(np.dot(a[2],b[j])) <= 1/np.sqrt(50)) and (np.abs(np.dot(a[3],b[j])) <= 1/np.sqrt(50)) and (np.abs(np.dot(a[4],b[j])) <= 1/np.sqrt(50))] \n",
        "\n",
        "print(len(po), \"points are in all five bands\")"
      ],
      "metadata": {
        "colab": {
          "base_uri": "https://localhost:8080/"
        },
        "id": "25o40qy0FtWZ",
        "outputId": "a2914ec7-24de-44df-855b-0345fbb323f1"
      },
      "execution_count": 240,
      "outputs": [
        {
          "output_type": "stream",
          "name": "stdout",
          "text": [
            "1  equator has  346  points\n",
            "2  equator has  346  points\n",
            "3  equator has  344  points\n",
            "4  equator has  341  points\n",
            "5  equator has  336  points\n",
            "73 points are in all five bands\n"
          ]
        }
      ]
    },
    {
      "cell_type": "code",
      "source": [
        "#Problem 4\n",
        "#a\n",
        "def d_dimensional_Gaussian(n, d): \n",
        "  list_of_points = [] \n",
        "  point = [] \n",
        "  for i in range(n): \n",
        "    point = [] \n",
        "    for j in range(d): \n",
        "      point.append(np.random.normal(0,1)) \n",
        "    list_of_points.append(point) \n",
        "  return list_of_points\n",
        "\n",
        "points = d_dimensional_Gaussian(200,50)\n",
        "apoint = d_dimensional_Gaussian(1,50)[0]\n",
        "\n",
        "angles=[]\n",
        "for p in points:\n",
        "  cosTh = np.dot(p,apoint) / (np.sqrt(sum(np.array(p)**2))*np.sqrt(sum(np.array(apoint)**2)))\n",
        "  y = np.arccos(cosTh)\n",
        "  angles.append(y)\n",
        "\n",
        "plt.plot(np.arange(200),angles,\".\")\n",
        "plt.plot(np.linspace(0,200,100),np.linspace(93*np.pi/180,93*np.pi/180,100), \"--\")\n",
        "plt.plot(np.linspace(0,200,100),np.linspace(87*np.pi/180,87*np.pi/180,100), \"--\")\n",
        "plt.show()\n",
        "\n",
        "\n",
        "plt.hist(angles)\n",
        "plt.show()\n",
        "\n",
        "count = 0\n",
        "for i in range(200):\n",
        "  if((87*np.pi/180) < angles[i]) and (angles[i] < (93*np.pi/180)):\n",
        "    count += 1\n",
        "\n",
        "print(count, \" points are in a range from 87 degree(=1.518) to 93 degree(=1.623)\")"
      ],
      "metadata": {
        "colab": {
          "base_uri": "https://localhost:8080/",
          "height": 530
        },
        "id": "zQwmZXKAKNGL",
        "outputId": "d04672d7-15ef-40b7-b69d-494a81e3fa24"
      },
      "execution_count": 267,
      "outputs": [
        {
          "output_type": "display_data",
          "data": {
            "text/plain": [
              "<Figure size 432x288 with 1 Axes>"
            ],
            "image/png": "[encoded data removed]"
          },
          "metadata": {
            "needs_background": "light"
          }
        },
        {
          "output_type": "display_data",
          "data": {
            "text/plain": [
              "<Figure size 432x288 with 1 Axes>"
            ],
            "image/png": "[encoded data removed]"
          },
          "metadata": {
            "needs_background": "light"
          }
        },
        {
          "output_type": "stream",
          "name": "stdout",
          "text": [
            "57  points are in a range from 87 degree(=1.518) to 93 degree(=1.623)\n"
          ]
        }
      ]
    }
  ]
}