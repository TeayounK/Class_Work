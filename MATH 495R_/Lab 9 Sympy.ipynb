{
  "nbformat": 4,
  "nbformat_minor": 0,
  "metadata": {
    "colab": {
      "provenance": []
    },
    "kernelspec": {
      "name": "python3",
      "display_name": "Python 3"
    },
    "language_info": {
      "name": "python"
    }
  },
  "cells": [
    {
      "cell_type": "code",
      "execution_count": 1,
      "metadata": {
        "id": "fHJ5GEIbNXDW"
      },
      "outputs": [],
      "source": [
        "import sympy as sy\n",
        "import numpy as np\n",
        "import matplotlib.pyplot as plt"
      ]
    },
    {
      "cell_type": "code",
      "source": [
        "#Problem 1\n",
        "\n",
        "x, y = sy.symbols(\"x, y\")\n",
        "\n",
        "\n",
        "expr = sy.Rational(2,5)*sy.exp(x**2-y)*sy.cosh(x+y) + sy.Rational(3,7)*sy.log(x*y+1)\n",
        "expr"
      ],
      "metadata": {
        "colab": {
          "base_uri": "https://localhost:8080/",
          "height": 57
        },
        "id": "y_qZrZQMNbeJ",
        "outputId": "9428db1a-52a4-4b4c-f871-30ed699b1f59"
      },
      "execution_count": 2,
      "outputs": [
        {
          "output_type": "execute_result",
          "data": {
            "text/plain": [
              "2*exp(x**2 - y)*cosh(x + y)/5 + 3*log(x*y + 1)/7"
            ],
            "text/latex": "$\\displaystyle \\frac{2 e^{x^{2} - y} \\cosh{\\left(x + y \\right)}}{5} + \\frac{3 \\log{\\left(x y + 1 \\right)}}{7}$"
          },
          "metadata": {},
          "execution_count": 2
        }
      ]
    },
    {
      "cell_type": "code",
      "source": [
        "# Problem 2\n",
        "N = 6\n",
        "def expii(N):\n",
        "  result = 0\n",
        "  x = sy.symbols(\"x\")\n",
        "  y = sy.symbols(\"y\")\n",
        "  for n in range(N+1):\n",
        "    result += x**n/sy.factorial(n)\n",
        "  new_expr = result.subs({x:-y**2})\n",
        "  f = sy.lambdify((y), new_expr)\n",
        "  return f\n",
        "\n",
        "expii(N)(1)\n",
        "\n",
        "plt.plot(np.linspace(-2,2,1000),expii(N)(np.linspace(-2,2,1000)))\n",
        "\n",
        "# As n increases, it is convergent"
      ],
      "metadata": {
        "colab": {
          "base_uri": "https://localhost:8080/",
          "height": 286
        },
        "id": "NiRG3vGQNdMS",
        "outputId": "3f90a237-53ba-4ded-c16e-7574172584f5"
      },
      "execution_count": 4,
      "outputs": [
        {
          "output_type": "execute_result",
          "data": {
            "text/plain": [
              "[<matplotlib.lines.Line2D at 0x7fca4c1d4130>]"
            ]
          },
          "metadata": {},
          "execution_count": 4
        },
        {
          "output_type": "display_data",
          "data": {
            "text/plain": [
              "<Figure size 432x288 with 1 Axes>"
            ],
            "image/png": "[encoded data removed]"
          },
          "metadata": {
            "needs_background": "light"
          }
        }
      ]
    },
    {
      "cell_type": "code",
      "source": [
        "#Problem 3\n",
        "x,y = sy.symbols(\"x,y\")\n",
        "\n",
        "expr = 2*x**6-51*x**4+48*x**3+312*x**2-576*x-100\n",
        "d_expr = sy.diff(expr,x)\n",
        "dd_expr = sy.diff(d_expr,x)\n",
        "\n",
        "f = sy.lambdify(x,expr)\n",
        "df = sy.lambdify(x,d_expr)\n",
        "ddf = sy.lambdify(x,dd_expr)\n",
        "\n",
        "\n",
        "Sol_list = sy.solve(d_expr,x)\n",
        "print(Sol_list)\n",
        "\n",
        "local_min = []\n",
        "local_max = []\n",
        "for i in Sol_list:\n",
        "  if (ddf(i) < 0 ):\n",
        "    print( i, \" is local maximum\")\n",
        "    local_max.append(i)\n",
        "  if (ddf(i) > 0 ):\n",
        "    print( i, \" is local minimum\")\n",
        "    local_min.append(i)\n",
        "  if (ddf(i) == 0 ):\n",
        "    print( i, \" is inconclusive\")\n",
        "\n",
        "print(\"Local Maximum: \", local_max)\n",
        "print(\"Local Minimum: \", local_min)\n",
        "\n",
        "for i in local_max:\n",
        "  plt.plot(i,f(i),\"o\", color = \"r\")\n",
        "for i in local_min:\n",
        "  plt.plot(i,f(i),\"o\", color = \"b\")  #일일이 하나하나 하기보다 for로 한번에 가능!\n",
        "\n",
        "plt.plot(np.linspace(-5,5,100),f(np.linspace(-5,5,100)))\n",
        "plt.show()"
      ],
      "metadata": {
        "colab": {
          "base_uri": "https://localhost:8080/",
          "height": 404
        },
        "id": "aIk1F7gfNf7u",
        "outputId": "592c9191-fbff-41f0-8fb4-41a5a1ac2965"
      },
      "execution_count": 5,
      "outputs": [
        {
          "output_type": "stream",
          "name": "stdout",
          "text": [
            "[-4, -2, 1, 2, 3]\n",
            "-4  is local minimum\n",
            "-2  is local maximum\n",
            "1  is local minimum\n",
            "2  is local maximum\n",
            "3  is local minimum\n",
            "Local Maximum:  [-2, 2]\n",
            "Local Minimum:  [-4, 1, 3]\n"
          ]
        },
        {
          "output_type": "display_data",
          "data": {
            "text/plain": [
              "<Figure size 432x288 with 1 Axes>"
            ],
            "image/png": "[encoded data removed]"
          },
          "metadata": {
            "needs_background": "light"
          }
        }
      ]
    },
    {
      "cell_type": "code",
      "source": [
        "# Problem 4\n",
        "\n",
        "x,y = sy.symbols(\"x, y\")\n",
        "\n",
        "f_a = sy.lambdify((x,y),(x**2-y**2)/(x**2+y**2))\n",
        "f_b = sy.lambdify((x,y),(x*y**2)-x**3)\n",
        "f_c = sy.lambdify((x,y),(2*x**2 + 3*x*y + 4*y**2)/(3*x**2 + 5*y**2))\n",
        "\n",
        "dxf_a = sy.diff((x**2-y**2)/(x**2+y**2),x)\n",
        "dxf_b = sy.diff((x*y**2)-x**3,x)\n",
        "dxf_c = sy.diff((2*x**2 + 3*x*y + 4*y**2)/(3*x**2 + 5*y**2),x)\n",
        "\n",
        "dyf_a = sy.diff((x**2-y**2)/(x**2+y**2),y)\n",
        "dyf_b = sy.diff((x*y**2)-x**3,y)\n",
        "dyf_c = sy.diff((2*x**2 + 3*x*y + 4*y**2)/(3*x**2 + 5*y**2),y)\n",
        "\n",
        "dxf_a\n",
        "dxf_b\n",
        "dxf_c\n",
        "\n",
        "dyf_a\n",
        "dyf_b\n",
        "dyf_c"
      ],
      "metadata": {
        "colab": {
          "base_uri": "https://localhost:8080/",
          "height": 62
        },
        "id": "2J2nrM-SNkpw",
        "outputId": "8bd04e7f-2775-416b-827e-e1efa0f48e13"
      },
      "execution_count": 6,
      "outputs": [
        {
          "output_type": "execute_result",
          "data": {
            "text/plain": [
              "-10*y*(2*x**2 + 3*x*y + 4*y**2)/(3*x**2 + 5*y**2)**2 + (3*x + 8*y)/(3*x**2 + 5*y**2)"
            ],
            "text/latex": "$\\displaystyle - \\frac{10 y \\left(2 x^{2} + 3 x y + 4 y^{2}\\right)}{\\left(3 x^{2} + 5 y^{2}\\right)^{2}} + \\frac{3 x + 8 y}{3 x^{2} + 5 y^{2}}$"
          },
          "metadata": {},
          "execution_count": 6
        }
      ]
    },
    {
      "cell_type": "code",
      "source": [],
      "metadata": {
        "id": "GfFozbI5Nnmg"
      },
      "execution_count": null,
      "outputs": []
    }
  ]
}