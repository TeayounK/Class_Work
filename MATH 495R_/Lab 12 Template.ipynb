{
 "cells": [
  {
   "cell_type": "code",
   "execution_count": null,
   "metadata": {},
   "outputs": [],
   "source": [
    "import numpy as np\n",
    "import random\n",
    "import sympy as sp\n",
    "\n",
    "\n",
    "import scipy.optimize as opt\n",
    "\n",
    "def newton(fp, fpp, x0, tol, maxiter):\n",
    "    '''\n",
    "    Problem 1 on http://math.byu.edu/~nick/gradient-descent\n",
    "    Implement Newton's method.\n",
    "    '''\n",
    "    pass\n",
    "\n",
    "def descent(f, df, x0, tol = 1e-5, maxiter = 100):\n",
    "    '''\n",
    "    Problem 3 on http://math.byu.edu/~nick/gradient-descent\n",
    "    Implement the method of steepest descent\n",
    "    '''\n",
    "    pass\n"
   ]
  },
  {
   "cell_type": "code",
   "execution_count": null,
   "metadata": {},
   "outputs": [],
   "source": [
    "#Problem 2:\n",
    "#Call your newton function where f = x**2 + sin(5*x), x0 = 0, tol = 1e-10, maxiter = 500\n",
    "\n"
   ]
  },
  {
   "cell_type": "code",
   "execution_count": null,
   "metadata": {},
   "outputs": [],
   "source": [
    "#Problem 4:\n",
    "#Call your descent function on f = x**4 + y**4 + z**4, x0 = [1,1,1], tol = 1e-5, maxiter = 100\n",
    "#Then call it on the Rosenbrock function. The following cell has everything set up for that,\n",
    "#which should help with the first part.\n",
    "\n"
   ]
  },
  {
   "cell_type": "code",
   "execution_count": null,
   "metadata": {},
   "outputs": [],
   "source": [
    "rosen = lambda x : (1 - x[0])**2 + 100 * (x[1] - x[0]**2)**2\n",
    "drosen = lambda x : np.array([-2*(1 - x[0]) + -200*2*x[0]*(x[1] - x[0]**2), 200*(x[1] - x[0]**2)])\n",
    "x0 = np.array([0,0])\n",
    "print(descent(rosen, drosen, x0, tol = 1e-5, maxiter = 10000))"
   ]
  }
 ],
 "metadata": {
  "kernelspec": {
   "display_name": "Python 3",
   "language": "python",
   "name": "python3"
  },
  "language_info": {
   "codemirror_mode": {
    "name": "ipython",
    "version": 3
   },
   "file_extension": ".py",
   "mimetype": "text/x-python",
   "name": "python",
   "nbconvert_exporter": "python",
   "pygments_lexer": "ipython3",
   "version": "3.6.5"
  }
 },
 "nbformat": 4,
 "nbformat_minor": 2
}
