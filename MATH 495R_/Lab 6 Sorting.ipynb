{
  "nbformat": 4,
  "nbformat_minor": 0,
  "metadata": {
    "colab": {
      "provenance": []
    },
    "kernelspec": {
      "name": "python3",
      "display_name": "Python 3"
    },
    "language_info": {
      "name": "python"
    }
  },
  "cells": [
    {
      "cell_type": "markdown",
      "source": [
        "1. On paper, bubble sort the list [3,2,1,0] so that it is in increasing order. How many times did you have to run through the entire list? What do you suspect is the maximum number of times that you will have to run through an arbitrary list to sort it?"
      ],
      "metadata": {
        "id": "iHTxkOCzSGw9"
      }
    },
    {
      "cell_type": "code",
      "execution_count": 39,
      "metadata": {
        "id": "X63eck1zQP2y"
      },
      "outputs": [],
      "source": [
        "# I ran through 6 times and that is the maximum number of times.\n",
        "\n",
        "import numpy as np"
      ]
    },
    {
      "cell_type": "markdown",
      "source": [
        "2. Write a function bubble_sort that takes as a parameter an unsorted list l and returns the list sorted from smallest to largest. Here are some hints and words of caution:"
      ],
      "metadata": {
        "id": "iTsqQtQ1SnyY"
      }
    },
    {
      "cell_type": "code",
      "source": [
        "def bubble_sort_recursive(L):\n",
        "  temp = -1\n",
        "  for i in np.arange(len(L)-1):\n",
        "    if L[i] > L[i+1]:\n",
        "      temp = L[i]\n",
        "      L[i] = L[i+1]\n",
        "      L[i+1] = temp\n",
        "      return bubble_sort_recursive(L)\n",
        "    if i == len(L)-2:\n",
        "      return L\n",
        "\n",
        "\n",
        "def bubble_sort(L):\n",
        "  temp = -1\n",
        "  for k in np.arange(len(L)-1):\n",
        "    for i in np.arange(len(L)-1):\n",
        "      if L[i] > L[i+1]:\n",
        "        temp = L[i]\n",
        "        L[i] = L[i+1]\n",
        "        L[i+1] = temp\n",
        "  return L"
      ],
      "metadata": {
        "id": "FuINUa0fSoeY"
      },
      "execution_count": 40,
      "outputs": []
    },
    {
      "cell_type": "markdown",
      "source": [
        "3. With your code, sort the following lists:"
      ],
      "metadata": {
        "id": "ubD1pczXV3Z_"
      }
    },
    {
      "cell_type": "code",
      "source": [
        "from numpy.lib.nanfunctions import nancumprod\n",
        "#Case 1)\n",
        "l = [3,2,1,0]\n",
        "print(bubble_sort_recursive(l))\n",
        "print(bubble_sort(l))\n",
        "\n",
        "#Case 2)\n",
        "n = [10,9,8,7,6,5,4,3,2,1,0]\n",
        "print(bubble_sort_recursive(n))\n",
        "print(bubble_sort(n))\n",
        "\n",
        "#Case 3)\n",
        "m = [48, 81, 25, 12, 47, 4, 15, 90, 95, 7, 80, 68, 88, 8, 42, 3, 6, 14, 76, 19, 91, 52, 15, 51, 95, 1, 6, 81, 35, 99, 23, 24, 72, 94, 98, 88, 20, 84, 55, 32, 45, 99, 40, 51, 2, 25, 82, 66, 75, 30, 38, 8, 75, 33, 2, 7, 98, 61, 28, 2, 39, 100, 25, 89, 70, 41, 91, 8, 78, 61, 26, 9, 88, 92, 59, 44, 41, 60, 99, 80, 28, 53, 45, 95, 96, 84, 39, 55, 32, 98, 41, 23, 4, 14, 22, 4, 64, 12, 79, 43]\n",
        "#print(bubble_sort_for_loop(m))\n",
        "print(bubble_sort(m))\n",
        "\n",
        "# The case 3 is too large to use recursive function."
      ],
      "metadata": {
        "colab": {
          "base_uri": "https://localhost:8080/"
        },
        "id": "kLw_oHzYV53j",
        "outputId": "14d16a02-f9f1-4d9c-b24c-6d7007205413"
      },
      "execution_count": 41,
      "outputs": [
        {
          "output_type": "stream",
          "name": "stdout",
          "text": [
            "[0, 1, 2, 3]\n",
            "[0, 1, 2, 3]\n",
            "[0, 1, 2, 3, 4, 5, 6, 7, 8, 9, 10]\n",
            "[0, 1, 2, 3, 4, 5, 6, 7, 8, 9, 10]\n",
            "[1, 2, 2, 2, 3, 4, 4, 4, 6, 6, 7, 7, 8, 8, 8, 9, 12, 12, 14, 14, 15, 15, 19, 20, 22, 23, 23, 24, 25, 25, 25, 26, 28, 28, 30, 32, 32, 33, 35, 38, 39, 39, 40, 41, 41, 41, 42, 43, 44, 45, 45, 47, 48, 51, 51, 52, 53, 55, 55, 59, 60, 61, 61, 64, 66, 68, 70, 72, 75, 75, 76, 78, 79, 80, 80, 81, 81, 82, 84, 84, 88, 88, 88, 89, 90, 91, 91, 92, 94, 95, 95, 95, 96, 98, 98, 98, 99, 99, 99, 100]\n"
          ]
        }
      ]
    },
    {
      "cell_type": "markdown",
      "source": [
        "4. What is the complexity of Bubble Sort? On average, about how many comparisons are we doing? How many for loops are there? Note that the input n that grows is the size of the list."
      ],
      "metadata": {
        "id": "f6VEMzhbgL6u"
      }
    },
    {
      "cell_type": "code",
      "source": [
        "#The complexity of Bubble Sort is n^2. There are two for loop."
      ],
      "metadata": {
        "id": "xjjhtYlrgIx2"
      },
      "execution_count": 42,
      "outputs": []
    },
    {
      "cell_type": "markdown",
      "source": [
        "5. What is the complexity of the binary search function from Lab 4? Hint: this algorithm does not run in either O(n) or O(n2) time. We are cutting the search space in half each time. If we started with a list of 16 elements, how many times do we have to cut in half to be certain that we have found the correct index? Can you generalize that to a list of arbitrary length? Remember that with big O we do not need to be perfectly precise."
      ],
      "metadata": {
        "id": "Ja95offqhKEu"
      }
    },
    {
      "cell_type": "code",
      "source": [
        "#The complexity of binary search function is log_2(n)."
      ],
      "metadata": {
        "id": "k6X784_ZhLA-"
      },
      "execution_count": 43,
      "outputs": []
    }
  ]
}