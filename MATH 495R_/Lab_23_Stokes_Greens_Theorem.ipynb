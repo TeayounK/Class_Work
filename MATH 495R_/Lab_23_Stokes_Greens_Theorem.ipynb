{
  "nbformat": 4,
  "nbformat_minor": 0,
  "metadata": {
    "colab": {
      "provenance": []
    },
    "kernelspec": {
      "name": "python3",
      "display_name": "Python 3"
    },
    "language_info": {
      "name": "python"
    }
  },
  "cells": [
    {
      "cell_type": "code",
      "execution_count": 67,
      "metadata": {
        "id": "7nt2E4BVyCCU"
      },
      "outputs": [],
      "source": [
        "import numpy as np\n",
        "import sympy as sy\n",
        "import numpy.linalg as la"
      ]
    },
    {
      "cell_type": "code",
      "source": [
        "#Problem 1\n",
        "\n",
        "def AreaOfPolygn(vertixList):\n",
        "  sum = 0\n",
        "  if len(vertixList) > 2:\n",
        "    for i in range(len(vertixList)-1):\n",
        "      sum += vertixList[i][0]*vertixList[i+1][1]-vertixList[i+1][0]*vertixList[i][1]\n",
        "    sum += vertixList[-1][0]*vertixList[0][1]-vertixList[0][0]*vertixList[-1][1]\n",
        "    return sum/2\n",
        "  elif len(vertixList) < 2:\n",
        "    raise Exception(\"Not enough points to calculate the polygon's area.\")\n",
        "  else:\n",
        "    i = 0\n",
        "    return vertixList[i][i]*vertixList[i+1][i+1]-vertixList[i+1][i]*vertixList[i][i+1]"
      ],
      "metadata": {
        "id": "dlq0c-cB3xUL"
      },
      "execution_count": 68,
      "outputs": []
    },
    {
      "cell_type": "code",
      "source": [
        "#Problem 2\n",
        "#a\n",
        "vertixList = [[0, 0], [2, 1], [1, 3], [0, 2], [-1, 1]]\n",
        "print(AreaOfPolygn(vertixList))\n",
        "\n",
        "#b\n",
        "vertixList1 = [[3,0],[5,3],[1,7],[-1,4],[-5,7],[-5,-2],[-2,-6],[5,-6],[2,-3],[5,-2]]\n",
        "print(AreaOfPolygn(vertixList1))"
      ],
      "metadata": {
        "colab": {
          "base_uri": "https://localhost:8080/"
        },
        "id": "xlXH9B-z5lnK",
        "outputId": "1feaa8ab-8a94-4945-887a-0d43f5087e23"
      },
      "execution_count": 69,
      "outputs": [
        {
          "output_type": "stream",
          "name": "stdout",
          "text": [
            "4.5\n",
            "96.0\n"
          ]
        }
      ]
    },
    {
      "cell_type": "code",
      "source": [
        "from sympy.functions import laguerre\n",
        "#Problem 3\n",
        "def Coefficient(A,B,C):\n",
        "  AB = B - A\n",
        "  AC = C - A\n",
        "  n = np.cross(AB,AC)/la.norm(np.cross(AB,AC))\n",
        "  d= np.dot(-n,A)\n",
        "  a = n[0]\n",
        "  b = n[1]\n",
        "  c = n[2]\n",
        "  return a, b, c, d"
      ],
      "metadata": {
        "id": "kricGPOR7SgF"
      },
      "execution_count": 70,
      "outputs": []
    },
    {
      "cell_type": "code",
      "source": [
        "#Problem 4\n",
        "\n",
        "def AreaOfF(vertixList):\n",
        "  sum = 0\n",
        "  if len(vertixList) > 2:\n",
        "    a,b,c,d = Coefficient(vertixList[0],vertixList[1],vertixList[2])\n",
        "    for i in range(len(vertixList)-1):\n",
        "      sum += ((vertixList[i][0]*vertixList[i+1][1]-vertixList[i+1][0]*vertixList[i][1])/c + (vertixList[i+1][0]*vertixList[i][2]-vertixList[i][0]*vertixList[i+1][2])/b + (vertixList[i][1]*vertixList[i+1][2]-vertixList[i+1][1]*vertixList[i][2])/a)/6\n",
        "    sum += ((vertixList[-1][0]*vertixList[0][1]-vertixList[0][0]*vertixList[-1][1])/c + (vertixList[0][0]*vertixList[-1][2]-vertixList[-1][0]*vertixList[0][2])/b + (vertixList[-1][1]*vertixList[0][2]-vertixList[0][1]*vertixList[-1][2])/a)/6\n",
        "    return sum\n",
        "  elif len(vertixList) < 2:\n",
        "    raise Exception(\"Not enough points to calculate the polygon's area.\")\n",
        "  else:\n",
        "    i = 0\n",
        "    return ((vertixList[i][0]*vertixList[i+1][1]-vertixList[i+1][0]*vertixList[i][1])/c + (vertixList[i+1][0]*vertixList[i][2]-vertixList[i][0]*vertixList[i+1][2])/b + (vertixList[i][1]*vertixList[i+1][2]-vertixList[i+1][1]*vertixList[i][2])/a)/6\n",
        "\n"
      ],
      "metadata": {
        "id": "t_p4eWWvqnC-"
      },
      "execution_count": 71,
      "outputs": []
    },
    {
      "cell_type": "code",
      "source": [
        "#Problem 6\n",
        "\n",
        "Qb = np.array([[0.2367, -0.5266, -0.8165], [-6.6449, 2.7101, -1.2247], [-4.7513, -1.5027, -7.7567],[5.8285, -4.3431, -2.8577], [3.4614, 0.9229, 5.3072]])\n",
        "\n",
        "AreaOfF(Qb)"
      ],
      "metadata": {
        "colab": {
          "base_uri": "https://localhost:8080/"
        },
        "id": "4T1BtRigq2vq",
        "outputId": "d13404ab-0880-4727-f02c-528f1ae08e1c"
      },
      "execution_count": 72,
      "outputs": [
        {
          "output_type": "execute_result",
          "data": {
            "text/plain": [
              "82.99977069469041"
            ]
          },
          "metadata": {},
          "execution_count": 72
        }
      ]
    }
  ]
}