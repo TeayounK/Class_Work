{
  "nbformat": 4,
  "nbformat_minor": 0,
  "metadata": {
    "colab": {
      "provenance": []
    },
    "kernelspec": {
      "name": "python3",
      "display_name": "Python 3"
    },
    "language_info": {
      "name": "python"
    }
  },
  "cells": [
    {
      "cell_type": "code",
      "execution_count": 82,
      "metadata": {
        "id": "TAvyh95JZGom"
      },
      "outputs": [],
      "source": [
        "# Problem 1\n",
        "\n",
        "import numpy as np\n",
        "import matplotlib.pyplot as plt\n",
        "import math\n",
        "\n",
        "\n",
        "def De_Casteljau_algorithm(m,t):\n",
        "  if len(m) == 1:\n",
        "    return m\n",
        "  elif len(m) < 1:\n",
        "    return -1\n",
        "  else :\n",
        "    #print(m)\n",
        "    result = []\n",
        "    for i in range(len(m)-1):\n",
        "      result.append([ m[i][0]*(1-t)+m[i+1][0]*t, m[i][1]*(1-t)+m[i+1][1]*t ])\n",
        "    if len(result) == 1:\n",
        "      #print(result)\n",
        "      return result[0][0],result[0][1]\n",
        "    else :\n",
        "      return De_Casteljau_algorithm(result,t)\n"
      ]
    },
    {
      "cell_type": "code",
      "source": [
        "# Problem 2\n",
        "\n",
        "# TestCase\n",
        "m = [[-0.75,0.25],[-0.25,0.75],[0.4,0.4],[0.25,-0.5]]\n",
        "t = 0.5\n",
        "\n",
        "def plotting_function(m):\n",
        "  x = np.linspace(0,1,100)\n",
        "  y = De_Casteljau_algorithm(m,x)\n",
        "  plt.plot(y[0],y[1])\n",
        "\n",
        "plotting_function(m)\n"
      ],
      "metadata": {
        "colab": {
          "base_uri": "https://localhost:8080/",
          "height": 265
        },
        "id": "U7vfSY6pZ4v1",
        "outputId": "e905ab11-b4e4-42d5-f618-0632adf29f73"
      },
      "execution_count": 83,
      "outputs": [
        {
          "output_type": "display_data",
          "data": {
            "text/plain": [
              "<Figure size 432x288 with 1 Axes>"
            ],
            "image/png": "[encoded data removed]"
          },
          "metadata": {
            "needs_background": "light"
          }
        }
      ]
    }
  ]
}