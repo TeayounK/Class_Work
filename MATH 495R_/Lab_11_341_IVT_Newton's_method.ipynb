{
  "nbformat": 4,
  "nbformat_minor": 0,
  "metadata": {
    "colab": {
      "provenance": []
    },
    "kernelspec": {
      "name": "python3",
      "display_name": "Python 3"
    },
    "language_info": {
      "name": "python"
    }
  },
  "cells": [
    {
      "cell_type": "code",
      "source": [
        "import numpy as np\n",
        "import sympy as sy\n",
        "\n",
        "def solve_func(f,s,e):\n",
        "\n",
        "  x = (s+e)/2\n",
        "  \n",
        "  # If f(s) = 0\n",
        "  if f(s) == 0:\n",
        "    return s\n",
        "  # If f(e) = 0 \n",
        "  if f(e) == 0:\n",
        "    return e\n",
        "\n",
        "  # If f(x) = 0\n",
        "  if f(x) == 0:\n",
        "    return round(x,8)\n",
        "  elif (e-s) < 0.00000001:\n",
        "    return round(x,8)\n",
        "  else :\n",
        "    if ((f(s) < 0) and (f(x) > 0) or (f(s) > 0) and (f(x) < 0)):\n",
        "      return solve_func(f,s,x)\n",
        "    elif ((f(e) < 0) and (f(x) > 0) or (f(e) > 0) and (f(x) < 0)):\n",
        "      return solve_func(f,x,e)\n"
      ],
      "metadata": {
        "id": "0zGR8PDblwqk"
      },
      "execution_count": 33,
      "outputs": []
    },
    {
      "cell_type": "code",
      "execution_count": 34,
      "metadata": {
        "colab": {
          "base_uri": "https://localhost:8080/"
        },
        "id": "4IBKPM-dlbSw",
        "outputId": "2f93d9b4-c421-44db-9fe5-1f9fe24fa73b"
      },
      "outputs": [
        {
          "output_type": "stream",
          "name": "stdout",
          "text": [
            "0.87838864\n"
          ]
        }
      ],
      "source": [
        "#Problem 1\n",
        "#Write code to approximate the solution to x5 + 2x3 − x − 1 = 0 in [0,1] to 6 decimal places.\n",
        "\n",
        "x = sy.symbols(\"x\")\n",
        "expr = x**5 + 2*x**3 - x -1\n",
        "f = sy.lambdify(x,expr)\n",
        "f(1)\n",
        "\n",
        "print(round(solve_func(f,0,1),8))\n",
        "\n"
      ]
    },
    {
      "cell_type": "code",
      "source": [
        "#Problem 2\n",
        "\n",
        "coef = [-1,-1,0,2,0,1] #input the coefficent\n",
        "\n",
        "\n",
        "def Solver(coef):\n",
        "  x = sy.symbols(\"x\")\n",
        "  expr = 0\n",
        "  for i in range(len(coef)):\n",
        "    expr += coef[len(coef) - 1 - i]*x**(len(coef) - 1 - i)\n",
        "  f = sy.lambdify(x,expr)\n",
        "  \n",
        "  # Find a and b\n",
        "  ak_1 = 0\n",
        "  for i in range(len(coef)-1):\n",
        "    ak_1 += abs(coef[i])\n",
        "  b = 1 + ak_1 / abs(coef[-1])\n",
        "  a = -1 - ak_1 / abs(coef[-1])\n",
        "\n",
        "  if coef[-1]<0:\n",
        "    a, b = b, a\n",
        "\n",
        "  return solve_func(f,a,b)\n",
        "  \n",
        "# a) 4 − 4x + 3x**2 − 3x**3 − x**4 + x**5\n",
        "print(\"a) \" + str(Solver([4,-4,3,-3,-1,1])))\n",
        "# b) −8000x + 800040x2 − 4003.8x3 − 19.981x4 + 0.1x5\n",
        "print(\"b) \" + str(Solver([0,-8000,800040,4003.8,-19.981,0.1])))\n",
        "# c) −2519.48 − 251915x − 12594100x2 + 165746x3 − 714.13x4 + x5\n",
        "print(\"c) \" + str(Solver([-2519.48,-251915,-12594100,165746,-714.13,1])))\n",
        "# d) −0.1 − x + 1000x2 + 10000x3 + 0.1x4 + x5\n",
        "print(\"d) \" + str(Solver([-0.1,-1,1000,10000,0.1,1])))"
      ],
      "metadata": {
        "colab": {
          "base_uri": "https://localhost:8080/"
        },
        "id": "OqU7GILLTaQN",
        "outputId": "b7ac6d74-9aec-4989-9824-6da3258349c1"
      },
      "execution_count": 35,
      "outputs": [
        {
          "output_type": "stream",
          "name": "stdout",
          "text": [
            "a) -2.0\n",
            "b) 0.0\n",
            "c) 314.14323791\n",
            "d) 0.01\n"
          ]
        }
      ]
    },
    {
      "cell_type": "code",
      "source": [
        "def Newton_support(expr,x_0):\n",
        "  x = sy.symbols(\"x\")\n",
        "  f = sy.lambdify(x,expr)\n",
        "  \n",
        "  d_expr = sy.diff(expr, x)\n",
        "  d_f = sy.lambdify(x,d_expr)\n",
        "\n",
        "  x_1 = x_0 - f(x_0)/d_f(x_0)\n",
        "\n",
        "  return x_1\n",
        "\n",
        "def Newton(expr,x_0):\n",
        "  x_1 = Newton_support(expr,x_0)\n",
        "\n",
        "  if abs(x_0 - x_1) < 0.0000001:\n",
        "    return x_1\n",
        "  else:\n",
        "    return Newton(expr,x_1)\n"
      ],
      "metadata": {
        "id": "GVxdimYvb6x9"
      },
      "execution_count": 36,
      "outputs": []
    },
    {
      "cell_type": "code",
      "source": [
        "#Problem 3\n",
        "\n",
        "x = sy.symbols(\"x\") \n",
        "expr = x**5 + 2*x**3 - x - 1\n",
        "\n",
        "x_0 = 0.1\n",
        "\n",
        "Newton(expr,x_0)\n"
      ],
      "metadata": {
        "colab": {
          "base_uri": "https://localhost:8080/"
        },
        "id": "cBZgcS3KYhH4",
        "outputId": "9da61934-041e-478f-981a-4dbc65ad98ce"
      },
      "execution_count": 37,
      "outputs": [
        {
          "output_type": "execute_result",
          "data": {
            "text/plain": [
              "0.8783886413483404"
            ]
          },
          "metadata": {},
          "execution_count": 37
        }
      ]
    },
    {
      "cell_type": "code",
      "source": [
        "#Problem 4\n",
        "def Newton_support(expr,x_0):\n",
        "  x = sy.symbols(\"x\")\n",
        "  f = sy.lambdify(x,expr)\n",
        "  \n",
        "  d_expr = sy.diff(expr, x)\n",
        "  d_f = sy.lambdify(x,d_expr)\n",
        "\n",
        "  x_1 = x_0 - f(x_0)/d_f(x_0)\n",
        "\n",
        "  return x_1\n",
        "\n",
        "def Newton(expr,x_0):\n",
        "  x_1 = Newton_support(expr,x_0)\n",
        "\n",
        "  if abs(x_0 - x_1) < 0.0000001:\n",
        "    return x_1\n",
        "  else:\n",
        "    return Newton(expr,x_1)\n",
        "\n",
        "x = sy.symbols(\"x\") \n",
        "expr = x**5 + 2*x**3 - x - 1\n",
        "\n",
        "x_0 = 0.1\n",
        "\n",
        "Newton(expr,x_0)"
      ],
      "metadata": {
        "colab": {
          "base_uri": "https://localhost:8080/"
        },
        "id": "N_9gsSwxhR1_",
        "outputId": "128e7217-f1a6-49e6-db58-0e3d57458504"
      },
      "execution_count": 38,
      "outputs": [
        {
          "output_type": "execute_result",
          "data": {
            "text/plain": [
              "0.8783886413483404"
            ]
          },
          "metadata": {},
          "execution_count": 38
        }
      ]
    },
    {
      "cell_type": "code",
      "source": [
        "#Problem 5\n",
        "\n",
        "x = sy.symbols(\"x\") \n",
        "expr = sy.sin(x**2) + x**2 - x - 1\n",
        "\n",
        "x_0 = -0.5\n",
        "\n",
        "Newton(expr,x_0)"
      ],
      "metadata": {
        "colab": {
          "base_uri": "https://localhost:8080/"
        },
        "id": "7Y0mah1ihbdT",
        "outputId": "c58fa179-6785-40ea-b2ea-ea1e7396ad5a"
      },
      "execution_count": 42,
      "outputs": [
        {
          "output_type": "execute_result",
          "data": {
            "text/plain": [
              "-0.5008739333981748"
            ]
          },
          "metadata": {},
          "execution_count": 42
        }
      ]
    },
    {
      "cell_type": "code",
      "source": [
        "#Problem 6\n",
        "\n",
        "import matplotlib.pyplot as plt\n",
        "x = sy.symbols(\"x\") \n",
        "expr = x**3 + 0.1*x**2 - x - 0.2\n",
        "f = sy.lambdify(x,expr)\n",
        "x_line = np.linspace(-2*np.pi,2*np.pi,100)\n",
        "\n",
        "plt.plot(x_line , f(x_line))\n",
        "plt.plot(np.linspace(-2*np.pi,2*np.pi),np.linspace(0,0), \"--k\")\n",
        "plt.plot(np.linspace(0,0),np.linspace(-10,10), \"--k\")\n",
        "plt.ylim(-1,1)\n",
        "plt.show()\n",
        "\n",
        "print(\"I see 3 solutions, and those are -0.938, -0.204, 1.043\")\n",
        "print(\"Any initial value in x < -0.612 will find a solution -0.938.\")\n",
        "print(\"Any initial value in -0.612 < x < 0.545  will find a solution -0.204.\")\n",
        "print(\"Any initial value in 0.545 < x will find a solution 1.043.\")\n",
        "print(\"However, if the initial value is equal to either -0.612 or 0.545, we can't find a solution.\")"
      ],
      "metadata": {
        "colab": {
          "base_uri": "https://localhost:8080/",
          "height": 356
        },
        "id": "QRc2M9A1iVyl",
        "outputId": "adbe49d3-5a7e-458c-88b5-c304d371dd6e"
      },
      "execution_count": 70,
      "outputs": [
        {
          "output_type": "display_data",
          "data": {
            "text/plain": [
              "<Figure size 432x288 with 1 Axes>"
            ],
            "image/png": "[encoded data removed]"
          },
          "metadata": {
            "needs_background": "light"
          }
        },
        {
          "output_type": "stream",
          "name": "stdout",
          "text": [
            "I see 3 solutions, and those are -0.938, -0.204, 1.043\n",
            "Any initial value in x < -0.612 will find a solution -0.938.\n",
            "Any initial value in -0.612 < x < 0.545  will find a solution -0.204.\n",
            "Any initial value in 0.545 < x will find a solution 1.043.\n",
            "However, if the initial value is equal to either -0.612 or 0.545, we can't find a solution.\n"
          ]
        }
      ]
    }
  ]
}