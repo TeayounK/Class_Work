{
  "nbformat": 4,
  "nbformat_minor": 0,
  "metadata": {
    "colab": {
      "provenance": []
    },
    "kernelspec": {
      "name": "python3",
      "display_name": "Python 3"
    },
    "language_info": {
      "name": "python"
    }
  },
  "cells": [
    {
      "cell_type": "code",
      "execution_count": 65,
      "metadata": {
        "id": "hVbZE8xHzJYw"
      },
      "outputs": [],
      "source": [
        "import numpy as np\n",
        "import sympy as sy\n",
        "import math as m\n",
        "from mpl_toolkits import mplot3d\n",
        "import matplotlib.pyplot as plt\n",
        "\n",
        "#Problem 1\n",
        "def riemann_sum_2D(f, xMin, xMax, yMin, yMax, N, method):\n",
        "  delx =(xMax-xMin)/N\n",
        "  dely =(yMax-yMin)/N\n",
        "  sum = 0\n",
        "  if method == \"left\":\n",
        "    for i in range(N):\n",
        "      for j in range(N):\n",
        "        sum += f(i*delx + xMin,j*dely + yMin)*delx*dely\n",
        "    return sum\n",
        "\n",
        "  elif method == \"right\":\n",
        "    for i in range(1,N+1):\n",
        "      for j in range(1,N+1):\n",
        "        sum += f(i*delx + xMin,j*dely + yMin)*delx*dely\n",
        "    return sum\n",
        "\n",
        "  elif method == \"mid\":\n",
        "    for i in range(N):\n",
        "      for j in range(N):\n",
        "        sum += f(i*delx+delx/2 + xMin,j*dely+dely/2 + yMin)*delx*dely\n",
        "    return sum    \n",
        "  else:\n",
        "    return -1\n"
      ]
    },
    {
      "cell_type": "code",
      "source": [
        "#Problem 2\n",
        "#a)\n",
        "print(\"#a)\")\n",
        "x,y = sy.symbols(\"x,y\")\n",
        "z = x*sy.sin(x*y)\n",
        "f1 = sy.lambdify((x,y),z)\n",
        "\n",
        "print(\"N=10; \", riemann_sum_2D(f1, xMin=0, xMax=np.pi, yMin=0, yMax=np.pi, N=10, method=\"mid\"))\n",
        "print(\"N=20; \", riemann_sum_2D(f1, xMin=0, xMax=np.pi, yMin=0, yMax=np.pi, N=20, method=\"mid\"))\n",
        "\n",
        "#b)\n",
        "print(\"#b)\")\n",
        "x,y = sy.symbols(\"x,y\")\n",
        "z = y*y*sy.exp(-x-y)\n",
        "f2 = sy.lambdify((x,y),z)\n",
        "\n",
        "print(\"N=10; \", riemann_sum_2D(f2, xMin=0, xMax=1, yMin=0, yMax=1, N=10, method=\"mid\"))\n",
        "print(\"N=20; \", riemann_sum_2D(f2, xMin=0, xMax=1, yMin=0, yMax=1, N=20, method=\"mid\"))\n",
        "\n",
        "#c)\n",
        "print(\"#c)\")\n",
        "x,y = sy.symbols(\"x,y\")\n",
        "z = x**3*y**2 + x*y\n",
        "f3 = sy.lambdify((x,y),z)\n",
        "\n",
        "print(\"N=10; \", riemann_sum_2D(f3, xMin=0, xMax=1, yMin=1, yMax=2, N=10, method=\"mid\"))\n",
        "print(\"N=20; \", riemann_sum_2D(f3, xMin=0, xMax=1, yMin=1, yMax=2, N=20, method=\"mid\"))"
      ],
      "metadata": {
        "colab": {
          "base_uri": "https://localhost:8080/"
        },
        "id": "J9mSxLyN4g5Q",
        "outputId": "06e52c0c-b713-4924-ebb8-d6f22852c465"
      },
      "execution_count": 66,
      "outputs": [
        {
          "output_type": "stream",
          "name": "stdout",
          "text": [
            "#a)\n",
            "N=10;  3.335619689249047\n",
            "N=20;  3.2926027753992186\n",
            "#b)\n",
            "N=10;  0.1013816192996159\n",
            "N=20;  0.10148555992657286\n",
            "#c)\n",
            "N=10;  1.3302093750000006\n",
            "N=20;  1.3325521484375003\n"
          ]
        },
        {
          "output_type": "execute_result",
          "data": {
            "text/plain": [
              "1.3325"
            ]
          },
          "metadata": {},
          "execution_count": 66
        }
      ]
    },
    {
      "cell_type": "code",
      "source": [
        "#Problem 3\n",
        "x,y = sy.symbols(\"x,y\")\n",
        "z = x*sy.sin(x+y)\n",
        "f = sy.lambdify((x,y),z)\n",
        "\n",
        "trueValue = (6*np.sqrt(3)-6-np.pi)/12\n",
        "\n",
        "err = []\n",
        "for i in range(1,101):\n",
        "  e = trueValue-riemann_sum_2D(f, xMin=0, xMax=np.pi/6, yMin=0, yMax=np.pi/3, N=i, method=\"right\")\n",
        "  err.append(abs(e))\n",
        "\n",
        "plt.plot(np.arange(100),err)\n",
        "plt.show()\n"
      ],
      "metadata": {
        "colab": {
          "base_uri": "https://localhost:8080/",
          "height": 265
        },
        "id": "MrRBo7QJ5j3B",
        "outputId": "ca77270d-d8e0-4a93-e2cd-ffadf84a362a"
      },
      "execution_count": 68,
      "outputs": [
        {
          "output_type": "display_data",
          "data": {
            "text/plain": [
              "<Figure size 432x288 with 1 Axes>"
            ],
            "image/png": "[encoded data removed]"
          },
          "metadata": {
            "needs_background": "light"
          }
        }
      ]
    },
    {
      "cell_type": "code",
      "source": [
        "#Problem 4\n",
        "def riemann_sum_2D(f, xMin, xMax, yMin, yMax, zMin, zMax, N, method):\n",
        "  delx =(xMax-xMin)/N\n",
        "  dely =(yMax-yMin)/N\n",
        "  delz =(zMax-zMin)/N\n",
        "  sum = 0\n",
        "  if method == \"left\":\n",
        "    for i in range(N):\n",
        "      for j in range(N):\n",
        "        for k in range(N):\n",
        "          sum += f(i*delx + xMin,j*dely + yMin,k*delz + zMin)*delx*dely*delz\n",
        "    return sum\n",
        "\n",
        "  elif method == \"right\":\n",
        "    for i in range(1,N+1):\n",
        "      for j in range(1,N+1):\n",
        "        for k in range(1,N+1):\n",
        "          sum += f(i*delx + xMin,j*dely + yMin,k*delz + zMin)*delx*dely*delz\n",
        "    return sum\n",
        "\n",
        "  elif method == \"mid\":\n",
        "    for i in range(N):\n",
        "      for j in range(N):\n",
        "        for k in range(N):\n",
        "          sum += f(i*delx+delx/2 + xMin,j*dely+dely/2 + yMin,k*delz + delz/2 + zMin)*delx*dely*delz\n",
        "    return sum    \n",
        "  else:\n",
        "    return -1"
      ],
      "metadata": {
        "id": "V0f7lO0rFN18"
      },
      "execution_count": 70,
      "outputs": []
    },
    {
      "cell_type": "code",
      "source": [
        "#Problem 5\n",
        "x,y,z = sy.symbols(\"x,y,z\")\n",
        "g = x*y + z**2\n",
        "f = sy.lambdify((x,y,z),g)\n",
        "\n",
        "print(\"N=10; \", riemann_sum_2D(f, xMin=0, xMax=1, yMin=0, yMax=2, zMin=0, zMax=3, N=10, method=\"mid\"))\n",
        "print(\"N=20; \", riemann_sum_2D(f, xMin=0, xMax=1, yMin=0, yMax=2, zMin=0, zMax=3, N=20, method=\"mid\"))"
      ],
      "metadata": {
        "colab": {
          "base_uri": "https://localhost:8080/"
        },
        "id": "TaVbCpmSFx9B",
        "outputId": "f7c1f4f2-29e2-4d19-fc8c-7766a6dfa63c"
      },
      "execution_count": 71,
      "outputs": [
        {
          "output_type": "stream",
          "name": "stdout",
          "text": [
            "N=10;  20.955\n",
            "N=20;  20.98875000000004\n"
          ]
        }
      ]
    }
  ]
}