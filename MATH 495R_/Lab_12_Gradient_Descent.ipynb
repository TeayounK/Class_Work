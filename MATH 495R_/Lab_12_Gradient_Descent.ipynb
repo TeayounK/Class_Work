{
  "cells": [
    {
      "cell_type": "code",
      "execution_count": 25,
      "metadata": {
        "id": "bEU7w-OBz3z7"
      },
      "outputs": [],
      "source": [
        "import numpy as np\n",
        "import random\n",
        "import sympy as sy\n",
        "\n",
        "\n",
        "import scipy.optimize as opt\n",
        "\n",
        "import sys\n",
        "sys.setrecursionlimit(100000000)  #이거하면 recurrsion을 더 많이 수용할 수 있음.\n",
        "\n",
        "def newton(fp, fpp, x0, tol, maxiter,count=0):\n",
        "    '''\n",
        "    Problem 1 on http://math.byu.edu/~nick/gradient-descent\n",
        "    Implement Newton's method.\n",
        "    '''\n",
        "    x1 = x0 - fp(x0)/fpp(x0)\n",
        "\n",
        "    if (maxiter < count):\n",
        "      print(\"It is divergent\")\n",
        "    else:\n",
        "      if abs(x0 - x1) < tol:\n",
        "        return x1, \"converges\", count\n",
        "      else:\n",
        "        return newton(fp, fpp, x1, tol, maxiter,count + 1)\n",
        "\n",
        "\n",
        "def descent(f, df, x0, tol = 1e-5, maxiter = 100, count=0):\n",
        "    '''\n",
        "    Problem 3 on http://math.byu.edu/~nick/gradient-descent\n",
        "    Implement the method of steepest descent\n",
        "    '''\n",
        "\n",
        "    ak = opt.minimize_scalar(lambda ak:f(x0-ak*df(x0))).x  # ak를 변수로 f(x0-ak*df(x0))에 대입해서 결과적으로 가장 작은 ak를 앞에 ak로 반환하는거임. \n",
        "\n",
        "    x1 = x0 - ak * df(x0)                                  # 1차원에서 한것처럼 mutivariable 함수도 같은 방식으로 한거임.\n",
        "\n",
        "    if (maxiter < count):\n",
        "      return x1\n",
        "    else:\n",
        "      if max(abs(x0 - x1)) < tol:\n",
        "        return x1, \"converges\", count\n",
        "      else:\n",
        "        return descent(f, df, x1, tol, maxiter, count + 1)\n"
      ]
    },
    {
      "cell_type": "code",
      "execution_count": 26,
      "metadata": {
        "colab": {
          "base_uri": "https://localhost:8080/"
        },
        "id": "Wkkh-4tuz3z9",
        "outputId": "7d3cd34b-7bac-4eae-8b39-d05d61b84527"
      },
      "outputs": [
        {
          "output_type": "stream",
          "name": "stdout",
          "text": [
            "My A:  (-1.4473142236328096, 'converges', 48)\n",
            "A:  -1.4473142236328096\n"
          ]
        }
      ],
      "source": [
        "#Problem 2:\n",
        "#Call your newton function where f = x**2 + sin(5*x), x0 = 0, tol = 1e-10, maxiter = 500\n",
        "\n",
        "\n",
        "df = lambda x : 2*x + 5*np.cos(5*x) \n",
        "d2f = lambda x : 2- 25*np.sin(5*x) \n",
        "print(\"My A: \",newton(df, d2f, x0=0, tol=1e-10, maxiter=500,count=0))\n",
        "\n",
        "print(\"A: \", opt.newton(df, x0=0, fprime=d2f, tol=1e-10, maxiter=500))"
      ]
    },
    {
      "cell_type": "code",
      "execution_count": 27,
      "metadata": {
        "id": "nnUya2cOz3z-",
        "colab": {
          "base_uri": "https://localhost:8080/"
        },
        "outputId": "4eee1296-5a72-4744-b798-3c7f7af242b2"
      },
      "outputs": [
        {
          "output_type": "execute_result",
          "data": {
            "text/plain": [
              "(array([9.24407773e-10, 9.24407773e-10, 9.24407773e-10]), 'converges', 1)"
            ]
          },
          "metadata": {},
          "execution_count": 27
        }
      ],
      "source": [
        "#Problem 4:\n",
        "#Call your descent function on f = x**4 + y**4 + z**4, x0 = [1,1,1], tol = 1e-5, maxiter = 100\n",
        "#Then call it on the Rosenbrock function. The following cell has everything set up for that,\n",
        "#which should help with the first part.\n",
        "\n",
        "def f(v):\n",
        "  x, y, z = v\n",
        "  return x**4 + y**4 + z**4  \n",
        "  # np.array()가 벡터 연산에 훨신 쉽기때문에 sy으로 하지 않고 np로 하기위해 f 함수를 그냥 만듬듬\n",
        "\n",
        "x0 = [1,1,1]\n",
        "tol = 1e-5\n",
        "maxiter = 100\n",
        "\n",
        "def df(v):\n",
        "  x, y, z = v\n",
        "  return np.array([4*x**3, 4*y**3, 4*z**3])  #이것도 그냥 직접 만든거임.\n",
        "\n",
        "descent(f, df, x0, tol = 1e-5, maxiter = 100, count=0)\n"
      ]
    },
    {
      "cell_type": "code",
      "execution_count": 28,
      "metadata": {
        "id": "SKf-ZAJCz3z_",
        "colab": {
          "base_uri": "https://localhost:8080/"
        },
        "outputId": "67dfffdf-1ea6-47fd-d52b-071d10b8b2a4"
      },
      "outputs": [
        {
          "output_type": "stream",
          "name": "stdout",
          "text": [
            "(array([0.99603979, 0.99207539]), 'converges', 3238)\n"
          ]
        }
      ],
      "source": [
        "rosen = lambda x : (1 - x[0])**2 + 100 * (x[1] - x[0]**2)**2\n",
        "drosen = lambda x : np.array([-2*(1 - x[0]) + -200*2*x[0]*(x[1] - x[0]**2), 200*(x[1] - x[0]**2)])\n",
        "x0 = np.array([0,0])\n",
        "print(descent(rosen, drosen, x0, tol = 1e-5, maxiter = 10000))"
      ]
    }
  ],
  "metadata": {
    "kernelspec": {
      "display_name": "Python 3",
      "language": "python",
      "name": "python3"
    },
    "language_info": {
      "codemirror_mode": {
        "name": "ipython",
        "version": 3
      },
      "file_extension": ".py",
      "mimetype": "text/x-python",
      "name": "python",
      "nbconvert_exporter": "python",
      "pygments_lexer": "ipython3",
      "version": "3.6.5"
    },
    "colab": {
      "provenance": []
    }
  },
  "nbformat": 4,
  "nbformat_minor": 0
}